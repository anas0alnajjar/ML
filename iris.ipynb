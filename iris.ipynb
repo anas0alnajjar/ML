{
 "cells": [
  {
   "cell_type": "code",
   "execution_count": null,
   "id": "3efe7594",
   "metadata": {},
   "outputs": [],
   "source": [
    "# Load libraries\n",
    "from pandas import read_csv\n",
    "from pandas.plotting import scatter_matrix\n",
    "from matplotlib import pyplot\n",
    "from sklearn.model_selection import train_test_split\n",
    "from sklearn.model_selection import cross_val_score\n",
    "from sklearn.model_selection import StratifiedKFold\n",
    "from sklearn.metrics import classification_report\n",
    "from sklearn.metrics import confusion_matrix\n",
    "from sklearn.metrics import accuracy_score\n",
    "from sklearn.linear_model import LogisticRegression\n",
    "from sklearn.tree import DecisionTreeClassifier\n",
    "from sklearn.neighbors import KNeighborsClassifier\n",
    "from sklearn.discriminant_analysis import LinearDiscriminantAnalysis\n",
    "from sklearn.naive_bayes import GaussianNB\n",
    "from sklearn.svm import SVC"
   ]
  },
  {
   "cell_type": "code",
   "execution_count": null,
   "id": "7ad91e4f",
   "metadata": {},
   "outputs": [],
   "source": [
    "#Load dataset\n",
    "url = \"https://raw.githubusercontent.com/jbrownlee/Datasets/master/iris.csv\"\n",
    "names = ['sepal-length', 'sepal-width', 'petal-length', 'petal-width', 'class']\n",
    "dataset = read_csv(url, names=names)"
   ]
  },
  {
   "cell_type": "code",
   "execution_count": null,
   "id": "8fff4d6c",
   "metadata": {},
   "outputs": [],
   "source": [
    "# Shape of DataSet\n",
    "print(dataset.shape)"
   ]
  },
  {
   "cell_type": "code",
   "execution_count": null,
   "id": "75dce15f",
   "metadata": {},
   "outputs": [],
   "source": [
    "# Head of DataSet\n",
    "print(dataset.head(20))"
   ]
  },
  {
   "cell_type": "code",
   "execution_count": null,
   "id": "d408eb7e",
   "metadata": {},
   "outputs": [],
   "source": [
    "# Descriptions of DataSet\n",
    "#Basic statistical data only for quantitative data\n",
    "print(dataset.describe())"
   ]
  },
  {
   "cell_type": "code",
   "execution_count": null,
   "id": "19df8325",
   "metadata": {},
   "outputs": [],
   "source": [
    "# class distribution\n",
    "print(dataset.groupby('class').size())"
   ]
  },
  {
   "cell_type": "code",
   "execution_count": null,
   "id": "2777c8ca",
   "metadata": {},
   "outputs": [],
   "source": [
    "# box and whisker plots\n",
    "dataset.plot(kind='box', subplots=True, layout=(2,2), sharex=False, \n",
    "sharey=False)\n",
    "pyplot.show()"
   ]
  },
  {
   "cell_type": "code",
   "execution_count": null,
   "id": "ecc9a30c",
   "metadata": {},
   "outputs": [],
   "source": [
    "#histogram\n",
    "dataset.hist()\n",
    "pyplot.show()"
   ]
  },
  {
   "cell_type": "code",
   "execution_count": null,
   "id": "fdf15af7",
   "metadata": {},
   "outputs": [],
   "source": [
    "# scatter plot matrix\n",
    "scatter_matrix(dataset)\n",
    "pyplot.show()"
   ]
  },
  {
   "cell_type": "code",
   "execution_count": null,
   "id": "00a0f674",
   "metadata": {},
   "outputs": [],
   "source": [
    "# Splitting the dataset into training and validation sets\n",
    "# Converting the dataset to numpy array\n",
    "array = dataset.values\n",
    "# Selecting independent variables (features) and dependent variable (target)\n",
    "X = array[:,0:4] # Features\n",
    "y = array[:,4] # Target\n",
    "# Splitting the dataset into 80% training and 20% validation sets\n",
    "X_train, X_validation, Y_train, Y_validation = train_test_split(X, y, \n",
    "test_size=0.20, random_state=1)"
   ]
  },
  {
   "cell_type": "code",
   "execution_count": null,
   "id": "99c60587",
   "metadata": {},
   "outputs": [],
   "source": [
    "# Spot Check Algorithms\n",
    "# Creating a list to store different machine learning models for evaluation\n",
    "\n",
    "models = []\n",
    "\n",
    "# Adding Logistic Regression model to the list\n",
    "models.append(('LR', LogisticRegression(solver='liblinear', multi_class='ovr')))\n",
    "\n",
    "# Adding Linear Discriminant Analysis model to the list\n",
    "models.append(('LDA', LinearDiscriminantAnalysis()))\n",
    "\n",
    "# Adding K-Nearest Neighbors model to the list\n",
    "models.append(('KNN', KNeighborsClassifier()))\n",
    "\n",
    "# Adding Classification and Regression Trees model to the list\n",
    "models.append(('CART', DecisionTreeClassifier()))\n",
    "\n",
    "# Adding Naive Bayes model to the list\n",
    "models.append(('NB', GaussianNB()))\n",
    "\n",
    "# Adding Support Vector Machine model to the list\n",
    "models.append(('SVM', SVC(gamma='auto')))\n",
    "\n",
    "# Evaluate each model in turn\n",
    "# Creating empty lists to store the results and names of the models\n",
    "results = []\n",
    "names = []\n",
    "\n",
    "# Looping through each model in the list\n",
    "for name, model in models:\n",
    "    # Using Stratified K-Folds cross-validator for splitting the data into 10 folds\n",
    "    kfold = StratifiedKFold(n_splits=10, random_state=1, shuffle=True)\n",
    "    \n",
    "    # Applying cross-validation on the current model using the training data\n",
    "    cv_results = cross_val_score(model, X_train, Y_train, cv=kfold, scoring='accuracy')\n",
    "    \n",
    "    # Storing the cross-validation results and model names\n",
    "    results.append(cv_results)\n",
    "    names.append(name)\n",
    "    \n",
    "    # Printing the mean and standard deviation of the cross-validation results for the current model\n",
    "    print('%s: %f (%f)' % (name, cv_results.mean(), cv_results.std()))\n"
   ]
  },
  {
   "cell_type": "code",
   "execution_count": null,
   "id": "646892a1",
   "metadata": {},
   "outputs": [],
   "source": [
    "# Compare Algorithms\n",
    "# Creating a boxplot to compare the performance of different algorithms\n",
    "pyplot.boxplot(results, labels=names)\n",
    "\n",
    "# Adding a title to the plot\n",
    "pyplot.title('Algorithm Comparison')\n",
    "\n",
    "# Displaying the plot\n",
    "pyplot.show()\n"
   ]
  },
  {
   "cell_type": "code",
   "execution_count": null,
   "id": "32b1d546",
   "metadata": {},
   "outputs": [],
   "source": [
    "# Make predictions on validation dataset\n",
    "# Create a Support Vector Machine classifier model with automatic gamma value\n",
    "model = SVC(gamma='auto')\n",
    "\n",
    "# Train the model using the training data\n",
    "model.fit(X_train, Y_train)\n",
    "\n",
    "# Make predictions using the trained model on the validation dataset\n",
    "predictions = model.predict(X_validation)\n"
   ]
  },
  {
   "cell_type": "code",
   "execution_count": null,
   "id": "aa74fc49",
   "metadata": {},
   "outputs": [],
   "source": [
    "# Evaluate predictions\n",
    "# Print the accuracy score of the predictions\n",
    "print(accuracy_score(Y_validation, predictions))\n",
    "\n",
    "# Print the confusion matrix of the predictions\n",
    "print(confusion_matrix(Y_validation, predictions))\n",
    "\n",
    "# Print the classification report of the predictions\n",
    "print(classification_report(Y_validation, predictions))\n"
   ]
  },
  {
   "cell_type": "code",
   "execution_count": null,
   "id": "60cd69d7",
   "metadata": {},
   "outputs": [],
   "source": []
  }
 ],
 "metadata": {
  "kernelspec": {
   "display_name": "Python 3 (ipykernel)",
   "language": "python",
   "name": "python3"
  },
  "language_info": {
   "codemirror_mode": {
    "name": "ipython",
    "version": 3
   },
   "file_extension": ".py",
   "mimetype": "text/x-python",
   "name": "python",
   "nbconvert_exporter": "python",
   "pygments_lexer": "ipython3",
   "version": "3.11.5"
  }
 },
 "nbformat": 4,
 "nbformat_minor": 5
}
